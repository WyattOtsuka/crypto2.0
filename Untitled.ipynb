{
 "cells": [
  {
   "cell_type": "code",
   "execution_count": 3,
   "id": "1ffad92b-b976-470d-b00b-778df8c81b04",
   "metadata": {},
   "outputs": [],
   "source": [
    "#######----------RULES----------#######\n",
    "# Only do this when stocks are above the 'x' period MA\n",
    "# Enter when stocks hit a 'y' period low\n",
    "# Place a buy order 'f'% below the closing price\n",
    "# Exit when we are above the 'z' period moving average\n",
    "\n",
    "#######----------NOTES----------#######\n",
    "# Initially 'x' was 200 day MA, 'y' was 10 day, 'z' was 5 day, and 'f' was 2%\n",
    "# Stop losses are desperately needed\n",
    "# This is using Price vs time, instead of candels"
   ]
  },
  {
   "cell_type": "code",
   "execution_count": 47,
   "id": "8ce9080c-6d9d-4e73-ad9f-e0f5999d399e",
   "metadata": {},
   "outputs": [],
   "source": [
    "import matplotlib.pyplot as plt\n",
    "import numpy as np"
   ]
  },
  {
   "cell_type": "code",
   "execution_count": null,
   "id": "c360870f-3013-4714-b152-99366d2544d6",
   "metadata": {},
   "outputs": [],
   "source": [
    "# These are the variables we need to find the gradient of\n",
    "\n",
    "x = 200    # MA to compare against\n",
    "y = 10     # Low within period\n",
    "f = 0.02   # Percent below low to buy at\n",
    "z = 5      # MA to set sells off of\n",
    "sl = 0.10  # Exit if position loses this much of its value"
   ]
  },
  {
   "cell_type": "code",
   "execution_count": 81,
   "id": "b5f15765-ae39-47bc-8423-53bbc0f3215c",
   "metadata": {},
   "outputs": [],
   "source": [
    "# Gets a moving average of days\n",
    "# Takes an int of days to average, and a list of data\n",
    "# Left tail is averaged over an increasing data set\n",
    "def getMa(days, data):\n",
    "    avg = [0]*len(data)\n",
    "    # Left tail\n",
    "    for d in range(days):\n",
    "        tempSum = 0\n",
    "        for i in range(d+1):\n",
    "            tempSum += data[i]\n",
    "        avg[d] = tempSum/(d+1)\n",
    "    \n",
    "    # Middle of data \n",
    "    for d in range(days,len(data)):\n",
    "        tempSum = 0\n",
    "        for i in range(days):\n",
    "            tempSum += data[d-i]\n",
    "        avg[d] = tempSum/days\n",
    "    return avg"
   ]
  },
  {
   "cell_type": "code",
   "execution_count": 8,
   "id": "7a20665e-5996-49f7-a81a-d5893d17dff5",
   "metadata": {},
   "outputs": [],
   "source": [
    "# Returns true if the data indicates that the market should now be entered\n",
    "def enterMarket(data):\n",
    "    for i in range(len(data)-1):\n",
    "        if data[-1] > i:\n",
    "            return false\n",
    "    return true"
   ]
  },
  {
   "cell_type": "code",
   "execution_count": 9,
   "id": "ba5565c0-a72a-4e29-86f9-42a6e71e8a35",
   "metadata": {},
   "outputs": [],
   "source": [
    "# Returns [sell, stoploss]\n",
    "def exitMarketCond()"
   ]
  },
  {
   "cell_type": "code",
   "execution_count": 82,
   "id": "48451e97-d0fb-434e-8034-97708eadd8ea",
   "metadata": {},
   "outputs": [],
   "source": []
  },
  {
   "cell_type": "code",
   "execution_count": null,
   "id": "37899788-2e4e-4da3-88c3-6842e68158a1",
   "metadata": {},
   "outputs": [],
   "source": []
  },
  {
   "cell_type": "code",
   "execution_count": null,
   "id": "a82c8342-18bb-461b-9572-acfb7e7d8886",
   "metadata": {},
   "outputs": [],
   "source": []
  },
  {
   "cell_type": "code",
   "execution_count": null,
   "id": "fd164298-b1da-4c9b-88af-a48b17ef47d9",
   "metadata": {},
   "outputs": [],
   "source": []
  }
 ],
 "metadata": {
  "kernelspec": {
   "display_name": "Python 3",
   "language": "python",
   "name": "python3"
  },
  "language_info": {
   "codemirror_mode": {
    "name": "ipython",
    "version": 3
   },
   "file_extension": ".py",
   "mimetype": "text/x-python",
   "name": "python",
   "nbconvert_exporter": "python",
   "pygments_lexer": "ipython3",
   "version": "3.8.8"
  }
 },
 "nbformat": 4,
 "nbformat_minor": 5
}
